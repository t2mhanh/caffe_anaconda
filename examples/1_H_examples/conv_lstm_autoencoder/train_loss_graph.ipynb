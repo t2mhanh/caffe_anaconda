{
 "cells": [
  {
   "cell_type": "code",
   "execution_count": 7,
   "metadata": {},
   "outputs": [
    {
     "name": "stdout",
     "output_type": "stream",
     "text": [
      "(600000,)\n"
     ]
    },
    {
     "data": {
      "image/png": "[encoded data removed]",
      "text/plain": [
       "<matplotlib.figure.Figure at 0x7fcd8b7f0250>"
      ]
     },
     "metadata": {},
     "output_type": "display_data"
    }
   ],
   "source": [
    "import sys\n",
    "sys.path.insert(0,'/home/csunix/schtmt/NewFolder/caffe_Sep/python')\n",
    "import numpy as np\n",
    "import matplotlib.pyplot as plt\n",
    "import caffe\n",
    "from matplotlib.backends.backend_pdf import PdfPages\n",
    "pp = PdfPages('multipage.pdf')\n",
    "# data = np.load('train_loss.npy')\n",
    "# np.shape(data['train_loss'])\n",
    "#-----------------------------------------------------------------------------\n",
    "# CONV_LSTM WITH RELU\n",
    "data = np.load('conv_lstm_AE_train_loss_22Sep.npy')\n",
    "print data.shape\n",
    "# print data[0:10]\n",
    "\n",
    "# print data[1]\n",
    "data = data[1:261150]\n",
    "# # a = data[2:20000]\n",
    "# # print a.mean()\n",
    "# print data.min()\n",
    "# print data.max()\n",
    "# #\n",
    "# # print np.shape(data)\n",
    "# # print np.shape(data)\n",
    "# # print np.min(data[0:9830])\n",
    "# #----- SAVE FIGURE AS PDF FILE ---------\n",
    "# # # # plt.plot()\n",
    "# # # # ax2 = ax1.twinx()\n",
    "# # # plt.figure()\n",
    "# # # plt.clf()\n",
    "# # # plt.plot(np.arange(65000),data)\n",
    "# # # # plt.show()\n",
    "# # # plt.savefig(pp,format='pdf')\n",
    "# # # pp.savefig()\n",
    "# # # pp.close()\n",
    "# #----------------------------------------\n",
    "nS = np.shape(data)[0]\n",
    "# # print nS[0]\n",
    "# print len(data)\n",
    "plt.figure()\n",
    "plt.clf()\n",
    "plt.plot(np.arange(nS),data)\n",
    "plt.show()\n",
    "#------------------------------------------------------------------------------\n",
    "# CONV_LSTM\n",
    "# data = np.load('conv_lstm_AE_train_loss.npy')\n",
    "# #\n",
    "# # print np.shape(data)\n",
    "# print data[9834]\n",
    "# print np.min(data[0:12200])\n",
    "# # a = data[0:12200]\n",
    "# plt.figure()\n",
    "# plt.clf()\n",
    "# plt.plot(np.arange(12200),data[0:12200])\n",
    "# plt.show()\n"
   ]
  },
  {
   "cell_type": "code",
   "execution_count": null,
   "metadata": {
    "collapsed": true
   },
   "outputs": [],
   "source": []
  }
 ],
 "metadata": {
  "kernelspec": {
   "display_name": "Python 2",
   "language": "python",
   "name": "python2"
  },
  "language_info": {
   "codemirror_mode": {
    "name": "ipython",
    "version": 2
   },
   "file_extension": ".py",
   "mimetype": "text/x-python",
   "name": "python",
   "nbconvert_exporter": "python",
   "pygments_lexer": "ipython2",
   "version": "2.7.13"
  }
 },
 "nbformat": 4,
 "nbformat_minor": 2
}
