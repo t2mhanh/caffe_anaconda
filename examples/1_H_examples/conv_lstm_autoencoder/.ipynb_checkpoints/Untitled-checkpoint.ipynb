{
 "cells": [
  {
   "cell_type": "markdown",
   "metadata": {},
   "source": [
    "Train data size of NxTxHxW"
   ]
  },
  {
   "cell_type": "code",
   "execution_count": 1,
   "metadata": {},
   "outputs": [
    {
     "name": "stdout",
     "output_type": "stream",
     "text": [
      "(8000, 10, 64, 64)\n"
     ]
    }
   ],
   "source": [
    "import h5py\n",
    "import numpy as np\n",
    "import matplotlib.pyplot as plt\n",
    "\n",
    "filename = '/usr/not-backed-up/1_convlstm/bouncing_mnist_train.h5'\n",
    "h5f = h5py.File(filename,'r')\n",
    "input_data = h5f['input'][:]\n",
    "h5f.close() \n",
    "print(input_data.shape)\n",
    "plt.figure()\n",
    "input_ = np.reshape(input_data[1,1,:,:],[64 64])\n",
    "plt.imshow(input_)\n",
    "plt.show()"
   ]
  }
 ],
 "metadata": {
  "kernelspec": {
   "display_name": "Python 2",
   "language": "python",
   "name": "python2"
  },
  "language_info": {
   "codemirror_mode": {
    "name": "ipython",
    "version": 2
   },
   "file_extension": ".py",
   "mimetype": "text/x-python",
   "name": "python",
   "nbconvert_exporter": "python",
   "pygments_lexer": "ipython2",
   "version": "2.7.13"
  }
 },
 "nbformat": 4,
 "nbformat_minor": 2
}
