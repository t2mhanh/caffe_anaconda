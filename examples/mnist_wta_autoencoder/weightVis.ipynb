{
 "cells": [
  {
   "cell_type": "code",
   "execution_count": 1,
   "metadata": {
    "collapsed": true
   },
   "outputs": [],
   "source": [
    "import sys\n",
    "caffe_root = '/home/csunix/schtmt/NewFolder/caffe_Sep/'\n",
    "#print sys.path\n",
    "sys.path.insert(0,caffe_root + 'python')\n",
    "import caffe\n",
    "import h5py\n",
    "import numpy as np\n",
    "import matplotlib.pyplot as plt\n",
    "\n",
    "\n",
    "\n",
    "def visualize_weights(net, layer_name, padding=4, filename=''):\n",
    "    # The parameters are a list of [weights, biases]\n",
    "    data = np.copy(net.params[layer_name][0].data)\n",
    "    # N is the total number of convolutions\n",
    "    N = data.shape[0] * data.shape[1]\n",
    "    print N\n",
    "    print data.shape\n",
    "    # Ensure the resulting image is square\n",
    "    filters_per_row = int(np.ceil(np.sqrt(N)))\n",
    "    # Assume the filters are square\n",
    "    filter_size = data.shape[2]\n",
    "    # Size of the result image including padding\n",
    "    result_size = filters_per_row * (filter_size + padding) - padding\n",
    "    # Initialize result image to all zeros\n",
    "    result = np.zeros((result_size, result_size))\n",
    "\n",
    "    # Tile the filters into the result image\n",
    "    filter_x = 0\n",
    "    filter_y = 0\n",
    "    for n in range(data.shape[0]):\n",
    "        for c in range(data.shape[1]):\n",
    "            if filter_x == filters_per_row:\n",
    "                filter_y += 1\n",
    "                filter_x = 0\n",
    "            for i in range(filter_size):\n",
    "                for j in range(filter_size):\n",
    "                    result[filter_y * (filter_size + padding) + i, filter_x * (filter_size + padding) + j] = data[\n",
    "                        n, c, i, j]\n",
    "            filter_x += 1\n",
    "    print result.shape\n",
    "    # Normalize image to 0-1\n",
    "    min = result.min()\n",
    "    max = result.max()\n",
    "    result = (result - min) / (max - min)\n",
    "\n",
    "    # Plot figure\n",
    "    plt.figure(figsize=(10, 10))\n",
    "    plt.axis('off')\n",
    "    plt.imshow(result, cmap='gray', interpolation='nearest')\n",
    "\n",
    "    # Save plot if filename is set\n",
    "    if filename != '':\n",
    "        plt.savefig(filename, bbox_inches='tight', pad_inches=0)\n",
    "\n",
    "    plt.show()\n",
    "\n",
    "def H_visualize_weights(net, layer_name, padding=4, filename=''):\n",
    "    # follow the method of \"display_network.m\"\n",
    "    # The parameters are a list of [weights, biases]\n",
    "    data = np.copy(net.params[layer_name][0].data)\n",
    "    # N is the total number of convolutions\n",
    "    N = data.shape[0] * data.shape[1]\n",
    "    print N\n",
    "    print data.shape\n",
    "    # a = data[1,0,:,:]\n",
    "    # print abs(a).min()\n",
    "    # Ensure the resulting image is square\n",
    "    filters_per_row = int(np.ceil(np.sqrt(N)))\n",
    "    # Assume the filters are square\n",
    "    filter_size = data.shape[2]\n",
    "    # Size of the result image including padding\n",
    "    result_size = filters_per_row * (filter_size + padding) - padding\n",
    "    # Initialize result image to all zeros\n",
    "    result = np.ones((result_size, result_size))\n",
    "\n",
    "    # Tile the filters into the result image\n",
    "    filter_x = 0\n",
    "    filter_y = 0\n",
    "    for n in range(data.shape[0]):\n",
    "        for c in range(data.shape[1]):\n",
    "            if filter_x == filters_per_row:\n",
    "                filter_y += 1\n",
    "                filter_x = 0\n",
    "            # for i in range(filter_size):\n",
    "            #     for j in range(filter_size):\n",
    "            #         result[filter_y * (filter_size + padding) + i, filter_x * (filter_size + padding) + j] = data[\n",
    "            #             n, c, i, j]\n",
    "            result_temp = data[n,c,:,:]\n",
    "            clim = abs(result_temp).max()\n",
    "            result[filter_y * (filter_size + padding):filter_y * (filter_size + padding) + filter_size,\n",
    "            filter_x * (filter_size + padding):filter_x * (filter_size + padding) + filter_size] = data[n,c,:,:]/clim\n",
    "            filter_x += 1\n",
    "    print result.shape\n",
    "    # # Normalize image to 0-1\n",
    "    # min = result.min()\n",
    "    # max = result.max()\n",
    "    # result = (result - min) / (max - min)\n",
    "\n",
    "    # Plot figure\n",
    "    plt.figure(figsize=(10, 10))\n",
    "    plt.axis('off')\n",
    "    plt.imshow(result, cmap='gray', interpolation='nearest')\n",
    "\n",
    "    # Save plot if filename is set\n",
    "    if filename != '':\n",
    "        plt.savefig(filename, bbox_inches='tight', pad_inches=0)\n",
    "\n",
    "    plt.show()"
   ]
  },
  {
   "cell_type": "code",
   "execution_count": 2,
   "metadata": {
    "collapsed": true
   },
   "outputs": [],
   "source": [
    "caffe.set_mode_cpu()\n",
    "# model_def = caffe_root + 'examples/mnist_wta_autoencoder/mnist_wta_test.prototxt'\n",
    "#model_weights = caffe_root + 'examples/mnist_wta_autoencoder/mnist_GlobalWta_iter_60000.caffemodel'\n",
    "# model_weights = '/usr/not-backed-up/1_convlstm/mnist_wta_sep2017_Ver1/mnist_GlobalWta_iter_60000.caffemodel'\n",
    "# model_weights = '/usr/not-backed-up/1_convlstm/mnist_wta_cross_entropy_loss_sep2017/mnist_GlobalWta_iter_60000.caffemodel'\n",
    "model_def = caffe_root + 'examples/mnist_wta_autoencoder/mnist_wta_leakyReLU_test.prototxt'\n",
    "model_weights = '/usr/not-backed-up/1_convlstm/mnist_wta_leakyReLU_sep2017/mnist_GlobalWta_iter_99600.caffemodel'\n",
    "# Load model\n",
    "net = caffe.Net( model_def,model_weights, caffe.TEST)\n",
    "data = np.copy(net.params['deconv'][0].data)\n",
    "\n",
    "##################################################################\n",
    "# create hdf5 file to check in Matlab\n",
    "# h5f = h5py.File('deconvWeight.h5','w') # w means write\n",
    "# h5f.create_dataset('weight',data = data)\n",
    "# h5f.close()\n",
    "#########"
   ]
  },
  {
   "cell_type": "code",
   "execution_count": 3,
   "metadata": {},
   "outputs": [
    {
     "name": "stdout",
     "output_type": "stream",
     "text": [
      "64\n",
      "(64, 1, 11, 11)\n",
      "(116, 116)\n"
     ]
    },
    {
     "data": {
      "image/png": "[encoded data removed]",
      "text/plain": [
       "<matplotlib.figure.Figure at 0x7f2570ce8a90>"
      ]
     },
     "metadata": {},
     "output_type": "display_data"
    }
   ],
   "source": [
    "# visualize_weights(net, 'conv1', filename='conv1.png')\n",
    "#visualize_weights(net, 'deconv', filename='deconv.png')\n",
    "H_visualize_weights(net, 'deconv', filename='deconv_MatlabDisplay.png')"
   ]
  },
  {
   "cell_type": "code",
   "execution_count": null,
   "metadata": {
    "collapsed": true
   },
   "outputs": [],
   "source": []
  }
 ],
 "metadata": {
  "kernelspec": {
   "display_name": "Python 2",
   "language": "python",
   "name": "python2"
  },
  "language_info": {
   "codemirror_mode": {
    "name": "ipython",
    "version": 2
   },
   "file_extension": ".py",
   "mimetype": "text/x-python",
   "name": "python",
   "nbconvert_exporter": "python",
   "pygments_lexer": "ipython2",
   "version": "2.7.13"
  }
 },
 "nbformat": 4,
 "nbformat_minor": 2
}
