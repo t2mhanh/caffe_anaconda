{
 "cells": [
  {
   "cell_type": "code",
   "execution_count": 1,
   "metadata": {},
   "outputs": [
    {
     "name": "stdout",
     "output_type": "stream",
     "text": [
      "(100000,)\n"
     ]
    },
    {
     "data": {
      "image/png": "[encoded data removed]",
      "text/plain": [
       "<matplotlib.figure.Figure at 0x7ff15568ad90>"
      ]
     },
     "metadata": {},
     "output_type": "display_data"
    }
   ],
   "source": [
    "#import sys\n",
    "#sys.path.insert(0,'/home/csunix/schtmt/NewFolder/caffe_May2017/python')\n",
    "import numpy as np\n",
    "import matplotlib.pyplot as plt\n",
    "#import caffe\n",
    "from matplotlib.backends.backend_pdf import PdfPages\n",
    "pp = PdfPages('multipage.pdf')\n",
    "# data = np.load('train_loss.npy')\n",
    "# np.shape(data['train_loss'])\n",
    "\n",
    "# data = np.load('train_loss_Sep2017.npy')\n",
    "# print data.shape\n",
    "# data = data[0:60000]\n",
    "# # print data[99]\n",
    "# # print data[199]\n",
    "# # print data[299]\n",
    "# # #print data[64999]\n",
    "# # print np.shape(data)\n",
    "# # print data.min()\n",
    "# plt.figure()\n",
    "# plt.clf()\n",
    "# plt.plot(np.arange(60000),data)\n",
    "# plt.show()\n",
    "\n",
    "# data = np.load('train_cross_entropy_loss_Sep2017.npy')\n",
    "data = np.load('train_loss_leakyReLU_Sep2017.npy')\n",
    "\n",
    "print data.shape\n",
    "data = data[0:100000]\n",
    "plt.figure()\n",
    "plt.clf()\n",
    "plt.plot(np.arange(100000),data)\n",
    "plt.show()"
   ]
  },
  {
   "cell_type": "code",
   "execution_count": null,
   "metadata": {
    "collapsed": true
   },
   "outputs": [],
   "source": []
  }
 ],
 "metadata": {
  "kernelspec": {
   "display_name": "Python 2",
   "language": "python",
   "name": "python2"
  },
  "language_info": {
   "codemirror_mode": {
    "name": "ipython",
    "version": 2
   },
   "file_extension": ".py",
   "mimetype": "text/x-python",
   "name": "python",
   "nbconvert_exporter": "python",
   "pygments_lexer": "ipython2",
   "version": "2.7.13"
  }
 },
 "nbformat": 4,
 "nbformat_minor": 2
}
