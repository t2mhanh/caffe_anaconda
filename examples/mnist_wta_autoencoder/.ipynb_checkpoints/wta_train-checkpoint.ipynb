{
 "cells": [
  {
   "cell_type": "code",
   "execution_count": null,
   "metadata": {
    "collapsed": true
   },
   "outputs": [],
   "source": [
    "import sys\n",
    "sys.path.insert(0,'/home/csunix/schtmt/NewFolder/caffe_Sep/python')\n",
    "sys.path.insert(0,'/home/csunix/schtmt/NewFolder/caffe_Sep/examples/mnist_wta_autoencoder')\n",
    "import numpy as np\n",
    "import matplotlib.pyplot as plt\n",
    "import caffe\n",
    "#% matplotlib inline#THIS LINE HAS ERROR -> USE THE FOLLOWING 2 LINES\n",
    "# from IPython import get_ipython\n",
    "# get_ipython().run_line_magic('matplotlib', 'inline')\n",
    "caffe.set_device(0)\n",
    "caffe.set_mode_gpu()\n",
    "solver = caffe.SGDSolver('mnist_wta_solver.prototxt')\n",
    "# # #solver.net.params['lstm1'][2].data[15:30]=5\n",
    "# [(k, v.data.shape) for k, v in solver.net.blobs.items()]\n",
    "# # just print the weight sizes (we'll omit the biases)\n",
    "# [(k, v[0].data.shape) for k, v in solver.net.params.items()]\n",
    "#\n",
    "# #solver.net.forward()\n",
    "#\n",
    "niter = 60000\n",
    "train_loss = np.zeros(niter)\n",
    "\n",
    "for i in range(niter):\n",
    "    solver.step(1)\n",
    " #   print solver.net.blobs.keys()\n",
    "#     #train_loss[i] = solver.net.blobs['loss'].data\n",
    "    train_loss[i] = solver.net.blobs['l2_error'].data\n",
    "    np.save('train_loss_V2_Sep2017',train_loss)\n",
    "    #np.save('train_loss', train_loss)"
   ]
  },
  {
   "cell_type": "code",
   "execution_count": null,
   "metadata": {
    "collapsed": true
   },
   "outputs": [],
   "source": [
    "print(train_loss[0])"
   ]
  }
 ],
 "metadata": {
  "kernelspec": {
   "display_name": "Python 2",
   "language": "python",
   "name": "python2"
  },
  "language_info": {
   "codemirror_mode": {
    "name": "ipython",
    "version": 2
   },
   "file_extension": ".py",
   "mimetype": "text/x-python",
   "name": "python",
   "nbconvert_exporter": "python",
   "pygments_lexer": "ipython2",
   "version": "2.7.13"
  }
 },
 "nbformat": 4,
 "nbformat_minor": 2
}
